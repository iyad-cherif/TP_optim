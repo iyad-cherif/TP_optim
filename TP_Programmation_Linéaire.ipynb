{
 "cells": [
  {
   "cell_type": "markdown",
   "id": "9e5a2cd9",
   "metadata": {},
   "source": [
    "<center> <h1>TP Programmation Linéaire </h1> </center>\n"
   ]
  },
  {
   "cell_type": "markdown",
   "id": "cb1b5d70",
   "metadata": {},
   "source": [
    "# Hands-on "
   ]
  },
  {
   "cell_type": "markdown",
   "id": "48c5800d",
   "metadata": {},
   "source": [
    "L'objectif de cette première partie du TP est de résoudre avec un outil informatique (solver) un programme linéaire. On va considérer le problème de production (produit A et B) vu dans le cours. \n",
    "\n",
    "*\t\t\t\t\\begin{aligned}  \n",
    "            \\max_{x_A, x_B } 4x_A + 5x_B  \\\\\n",
    "\t\t\t\\text{s.t. }\\quad \n",
    "\t\t\t2x_A+ x_B &\\le  8\\\\\n",
    "\t\t\tx_A+ 2x_B  &\\leq  7 \\\\\n",
    "\t\t\tx_B  &\\leq  3 \\\\\n",
    "\t\t\tx_A, x_B    &\\ge  0 \\\\\n",
    "\t\t\\end{aligned}\n",
    "*"
   ]
  },
  {
   "cell_type": "markdown",
   "id": "f4a86b38",
   "metadata": {},
   "source": [
    "Pour les besoins de ce TP, vous devez installer la librairie Python **PuLP**. Vous pouvez le faire avec la  commande suivante : "
   ]
  },
  {
   "cell_type": "code",
   "execution_count": null,
   "id": "71dffdc0",
   "metadata": {
    "scrolled": true
   },
   "outputs": [],
   "source": [
    "!pip install pulp "
   ]
  },
  {
   "cell_type": "markdown",
   "id": "67ca1917",
   "metadata": {},
   "source": [
    "Si cela ne marche pas, tapez le commande suivante depuis la ligne de commande \"Anaconda Promp\" (chercher sur windows) "
   ]
  },
  {
   "cell_type": "code",
   "execution_count": null,
   "id": "a35b2909",
   "metadata": {},
   "outputs": [],
   "source": [
    "pip install pulp "
   ]
  },
  {
   "cell_type": "markdown",
   "id": "43bff904",
   "metadata": {},
   "source": [
    "Vous commencez par importer ce dont vous avez besoin :"
   ]
  },
  {
   "cell_type": "code",
   "execution_count": null,
   "id": "36c7daad",
   "metadata": {},
   "outputs": [],
   "source": [
    "from pulp import LpProblem, LpMaximize,  LpVariable, LpStatus"
   ]
  },
  {
   "cell_type": "markdown",
   "id": "8554a27b",
   "metadata": {},
   "source": [
    "Maintenant que vous avez importé PuLP, vous pouvez résoudre les problèmes de programmation linéaire  \n",
    "\n",
    "La première étape consiste à initialiser une instance de **LpProblem** pour représenter votre modèle :"
   ]
  },
  {
   "cell_type": "code",
   "execution_count": null,
   "id": "ab54c22b",
   "metadata": {},
   "outputs": [],
   "source": [
    "# Création du modèle \n",
    "model = ..."
   ]
  },
  {
   "cell_type": "markdown",
   "id": "673ca968",
   "metadata": {},
   "source": [
    "Vous utilisez le paramètre **sense** pour choisir d'effectuer une minimisation (LpMinimize, qui est la valeur par défaut) ou une maximisation (LpMaximize). Ce choix aura une incidence sur le résultat de votre problème."
   ]
  },
  {
   "cell_type": "markdown",
   "id": "32f84528",
   "metadata": {},
   "source": [
    "Une fois que vous avez le modèle, vous pouvez définir les variables de décision comme des instances de la classe **LpVariable** :"
   ]
  },
  {
   "cell_type": "code",
   "execution_count": null,
   "id": "ad211be3",
   "metadata": {},
   "outputs": [],
   "source": [
    "# Initialisation des variables de décisions "
   ]
  },
  {
   "cell_type": "code",
   "execution_count": null,
   "id": "b2547742",
   "metadata": {},
   "outputs": [],
   "source": [
    "x_1 = ...\n",
    "x_2 = ..."
   ]
  },
  {
   "cell_type": "markdown",
   "id": "4031b03d",
   "metadata": {},
   "source": [
    "Vous devez fournir une borne inférieure avec **lowBound=0** car la valeur par défaut est l'infini négatif. \n",
    "\n",
    "Le paramètre **upBound** définit la limite supérieure, mais vous pouvez l'omettre ici car la valeur par défaut est l'infini positif."
   ]
  },
  {
   "cell_type": "markdown",
   "id": "478f8260",
   "metadata": {},
   "source": [
    "L'étape suivante consiste à créer les contraintes et la fonction objective ainsi qu'à les affecter au modèle. \n",
    "\n",
    "Pour le faire, il suffit d'écrire des expressions Python et d'utiliser l'opérateur **+=** pour les ajouter au modèle :"
   ]
  },
  {
   "cell_type": "code",
   "execution_count": null,
   "id": "67990ff5",
   "metadata": {},
   "outputs": [],
   "source": [
    "model += ...\n",
    "model += ...\n",
    "model += ..."
   ]
  },
  {
   "cell_type": "markdown",
   "id": "db5c58af",
   "metadata": {},
   "source": [
    "Dans le code précédent, on a définit des tuples qui contiennent les contraintes et leurs noms. \n",
    "\n",
    "La définition de la fonction objectif est très similaire :"
   ]
  },
  {
   "cell_type": "code",
   "execution_count": null,
   "id": "d6660854",
   "metadata": {},
   "outputs": [],
   "source": [
    "#Définir la fonction objective : \n",
    "    \n",
    "fonction_objective = ...\n",
    "\n",
    "# Ajouter la fonction objectif au modèle\n",
    "model += ... "
   ]
  },
  {
   "cell_type": "markdown",
   "id": "2472a31a",
   "metadata": {},
   "source": [
    "Vous pouvez maintenant voir la définition complète de ce modèle :"
   ]
  },
  {
   "cell_type": "code",
   "execution_count": null,
   "id": "f43ce686",
   "metadata": {
    "scrolled": true
   },
   "outputs": [],
   "source": [
    "model"
   ]
  },
  {
   "cell_type": "markdown",
   "id": "610f7943",
   "metadata": {},
   "source": [
    "Enfin, vous êtes prêt à résoudre le problème. Vous pouvez le faire en appelant **.solve()** sur votre objet modèle."
   ]
  },
  {
   "cell_type": "code",
   "execution_count": null,
   "id": "ccff28f7",
   "metadata": {},
   "outputs": [],
   "source": [
    "#Résolution du programme \n",
    "status = ..."
   ]
  },
  {
   "cell_type": "markdown",
   "id": "20594930",
   "metadata": {},
   "source": [
    "Vous pouvez obtenir les résultats de l'optimisation  avec la méthode **.value()** qui renvoie les valeurs réelles de la solution et du point optimal. "
   ]
  },
  {
   "cell_type": "code",
   "execution_count": null,
   "id": "b0ebaa81",
   "metadata": {},
   "outputs": [],
   "source": [
    "print(f\"status: {model.status}, {LpStatus[model.status]}\")"
   ]
  },
  {
   "cell_type": "code",
   "execution_count": null,
   "id": "955d2d32",
   "metadata": {},
   "outputs": [],
   "source": [
    "print(f\"objective: {model.objective.value()}\")"
   ]
  },
  {
   "cell_type": "code",
   "execution_count": null,
   "id": "2eb1ce60",
   "metadata": {},
   "outputs": [],
   "source": [
    "for var in model.variables():\n",
    "    print(f\"{var.name}: {var.value()}\")"
   ]
  },
  {
   "cell_type": "code",
   "execution_count": null,
   "id": "7bf4e7d0",
   "metadata": {},
   "outputs": [],
   "source": [
    "for name, constraint in model.constraints.items():\n",
    "    print(f\"{name}: {constraint.value()}\")"
   ]
  },
  {
   "cell_type": "markdown",
   "id": "bc668e98",
   "metadata": {},
   "source": [
    "# Exercice PL "
   ]
  },
  {
   "cell_type": "markdown",
   "id": "83fc9a90",
   "metadata": {},
   "source": [
    "Résolvez le programme linéaire suivant en utilisant la librairie **PuPL**"
   ]
  },
  {
   "cell_type": "markdown",
   "id": "94da48fe",
   "metadata": {},
   "source": [
    "*\t\t\\begin{aligned}\n",
    "    \\max_{ x_1, x_2, x_3, x_4 }\\quad  20x_1 + 12x_2+  40x_3 + 25x_4  \\\\\n",
    "\t\t\\text{Sous les contraintes }\\quad \n",
    "\t\t x_1 + x_2+  x_3 + x_4  &\\le  50\\\\\n",
    "\t\t 3x_1 + 2x_2+  x_3    &\\leq  100 \\\\\n",
    "\t\t  x_2+  2x_3 + 3x_4  &\\leq  90 \\\\\n",
    "\t x_1, x_2, x_3, x_4    &\\ge  0 \\\\\n",
    "\t\\end{aligned}\n",
    "        *"
   ]
  }
 ],
 "metadata": {
  "kernelspec": {
   "display_name": "Python 3 (ipykernel)",
   "language": "python",
   "name": "python3"
  },
  "language_info": {
   "codemirror_mode": {
    "name": "ipython",
    "version": 3
   },
   "file_extension": ".py",
   "mimetype": "text/x-python",
   "name": "python",
   "nbconvert_exporter": "python",
   "pygments_lexer": "ipython3",
   "version": "3.9.12"
  }
 },
 "nbformat": 4,
 "nbformat_minor": 5
}
