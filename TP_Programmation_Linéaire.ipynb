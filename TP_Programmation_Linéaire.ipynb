{
 "cells": [
  {
   "cell_type": "markdown",
   "id": "00629f81",
   "metadata": {},
   "source": [
    "<center> <h1>TP Programmation Linéaire </h1> </center>\n"
   ]
  },
  {
   "cell_type": "markdown",
   "id": "af96497f",
   "metadata": {},
   "source": [
    "# Hands-on "
   ]
  },
  {
   "cell_type": "markdown",
   "id": "39b027b4",
   "metadata": {},
   "source": [
    "L'objectif de cette première partie du TP est de résoudre avec un outil informatique (solver) un programme linéaire. On va considérer le problème de production (produit A et B) vu dans le cours. \n",
    "\n",
    "*\t\t\t\t\\begin{aligned}  \n",
    "            \\max_{x_A, x_B } 4x_A + 5x_B  \\\\\n",
    "\t\t\t\\text{s.t. }\\quad \n",
    "\t\t\t2x_A+ x_B &\\le  8\\\\\n",
    "\t\t\tx_A+ 2x_B  &\\leq  7 \\\\\n",
    "\t\t\tx_B  &\\leq  3 \\\\\n",
    "\t\t\tx_A, x_B    &\\ge  0 \\\\\n",
    "\t\t\\end{aligned}\n",
    "*"
   ]
  },
  {
   "cell_type": "markdown",
   "id": "14cd4230",
   "metadata": {},
   "source": [
    "Pour les besoins de ce TP, vous devez installer la librairie Python **PuLP**. Vous pouvez le faire avec la  commande suivante : "
   ]
  },
  {
   "cell_type": "code",
   "execution_count": null,
   "id": "0f5d65f7",
   "metadata": {
    "scrolled": true
   },
   "outputs": [],
   "source": [
    "pip install pulp "
   ]
  },
  {
   "cell_type": "markdown",
   "id": "b1d39b3a",
   "metadata": {},
   "source": [
    "Vous commencez par importer ce dont vous avez besoin :"
   ]
  },
  {
   "cell_type": "code",
   "execution_count": null,
   "id": "c978961f",
   "metadata": {},
   "outputs": [],
   "source": [
    "from pulp import LpProblem, LpMaximize,  LpVariable, LpStatus"
   ]
  },
  {
   "cell_type": "markdown",
   "id": "f611a4c0",
   "metadata": {},
   "source": [
    "Maintenant que vous avez importé PuLP, vous pouvez résoudre les problèmes de programmation linéaire  \n",
    "\n",
    "La première étape consiste à initialiser une instance de **LpProblem** pour représenter votre modèle :"
   ]
  },
  {
   "cell_type": "code",
   "execution_count": null,
   "id": "0c444778",
   "metadata": {},
   "outputs": [],
   "source": [
    "# Création du modèle \n",
    "model = ..."
   ]
  },
  {
   "cell_type": "markdown",
   "id": "e9be89c7",
   "metadata": {},
   "source": [
    "Vous utilisez le paramètre **sense** pour choisir d'effectuer une minimisation (LpMinimize, qui est la valeur par défaut) ou une maximisation (LpMaximize). Ce choix aura une incidence sur le résultat de votre problème."
   ]
  },
  {
   "cell_type": "markdown",
   "id": "bc90f3ed",
   "metadata": {},
   "source": [
    "Une fois que vous avez le modèle, vous pouvez définir les variables de décision comme des instances de la classe **LpVariable** :"
   ]
  },
  {
   "cell_type": "code",
   "execution_count": null,
   "id": "79058b8c",
   "metadata": {},
   "outputs": [],
   "source": [
    "# Initialisation des variables de décisions "
   ]
  },
  {
   "cell_type": "code",
   "execution_count": null,
   "id": "05e3f33f",
   "metadata": {},
   "outputs": [],
   "source": [
    "x_1 = ...\n",
    "x_2 = ...\n"
   ]
  },
  {
   "cell_type": "markdown",
   "id": "ed7c7365",
   "metadata": {},
   "source": [
    "Vous devez fournir une borne inférieure avec **lowBound=0** car la valeur par défaut est l'infini négatif. \n",
    "\n",
    "Le paramètre **upBound** définit la limite supérieure, mais vous pouvez l'omettre ici car la valeur par défaut est l'infini positif."
   ]
  },
  {
   "cell_type": "markdown",
   "id": "cdb59f33",
   "metadata": {},
   "source": [
    "L'étape suivante consiste à créer les contraintes et la fonction objective ainsi qu'à les affecter au modèle. \n",
    "\n",
    "Pour le faire, il suffit d'écrire des expressions Python et d'utiliser l'opérateur **+=** pour les ajouter au modèle :"
   ]
  },
  {
   "cell_type": "code",
   "execution_count": null,
   "id": "45ade5d4",
   "metadata": {},
   "outputs": [],
   "source": [
    "model += ...\n",
    "model += ...\n",
    "model += ..."
   ]
  },
  {
   "cell_type": "markdown",
   "id": "936cc5ac",
   "metadata": {},
   "source": [
    "Dans le code précédent, on a définit des tuples qui contiennent les contraintes et leurs noms. \n",
    "\n",
    "La définition de la fonction objectif est très similaire :"
   ]
  },
  {
   "cell_type": "code",
   "execution_count": null,
   "id": "5a1a4eb0",
   "metadata": {},
   "outputs": [],
   "source": [
    "#Définir la fonction objective : \n",
    "    \n",
    "fonction_objective = ...\n",
    "\n",
    "# Ajouter la fonction objectif au modèle\n",
    "model += ... "
   ]
  },
  {
   "cell_type": "markdown",
   "id": "122271f6",
   "metadata": {},
   "source": [
    "Vous pouvez maintenant voir la définition complète de ce modèle :"
   ]
  },
  {
   "cell_type": "code",
   "execution_count": null,
   "id": "3bf55a76",
   "metadata": {
    "scrolled": true
   },
   "outputs": [],
   "source": [
    "model"
   ]
  },
  {
   "cell_type": "markdown",
   "id": "0918c592",
   "metadata": {},
   "source": [
    "Enfin, vous êtes prêt à résoudre le problème. Vous pouvez le faire en appelant **.solve()** sur votre objet modèle."
   ]
  },
  {
   "cell_type": "code",
   "execution_count": null,
   "id": "0e18ef0b",
   "metadata": {},
   "outputs": [],
   "source": [
    "#Résolution du programme \n",
    "status = ..."
   ]
  },
  {
   "cell_type": "markdown",
   "id": "0e2c0e58",
   "metadata": {},
   "source": [
    "Vous pouvez obtenir les résultats de l'optimisation  avec la méthode **.value()** qui renvoie les valeurs réelles de la solution et du point optimal. "
   ]
  },
  {
   "cell_type": "code",
   "execution_count": null,
   "id": "9eab6b7f",
   "metadata": {},
   "outputs": [],
   "source": [
    "print(f\"status: {model.status}, {LpStatus[model.status]}\")"
   ]
  },
  {
   "cell_type": "code",
   "execution_count": null,
   "id": "755a8446",
   "metadata": {},
   "outputs": [],
   "source": [
    "print(f\"objective: {model.objective.value()}\")"
   ]
  },
  {
   "cell_type": "code",
   "execution_count": null,
   "id": "4f3d076c",
   "metadata": {},
   "outputs": [],
   "source": [
    "for var in model.variables():\n",
    "    print(f\"{var.name}: {var.value()}\")"
   ]
  },
  {
   "cell_type": "code",
   "execution_count": null,
   "id": "c0c39968",
   "metadata": {},
   "outputs": [],
   "source": [
    "for name, constraint in model.constraints.items():\n",
    "    print(f\"{name}: {constraint.value()}\")"
   ]
  },
  {
   "cell_type": "markdown",
   "id": "3fb361a5",
   "metadata": {},
   "source": [
    "# Exercice PL "
   ]
  },
  {
   "cell_type": "markdown",
   "id": "a2839b5f",
   "metadata": {},
   "source": [
    "Résolvez le programme linéaire suivant en utilisant la librairie **PuPL**"
   ]
  },
  {
   "cell_type": "markdown",
   "id": "2b1ca1de",
   "metadata": {},
   "source": [
    "*\t\t\\begin{aligned}\n",
    "    \\max_{ x_1, x_2, x_3, x_4 }\\quad  20x_1 + 12x_2+  40x_3 + 25x_4  \\\\\n",
    "\t\t\\text{Sous les contraintes }\\quad \n",
    "\t\t x_1 + x_2+  x_3 + x_4  &\\le  50\\\\\n",
    "\t\t 3x_1 + 2x_2+  x_3    &\\leq  100 \\\\\n",
    "\t\t  x_2+  2x_3 + 3x_4  &\\leq  90 \\\\\n",
    "\t x_1, x_2, x_3, x_4    &\\ge  0 \\\\\n",
    "\t\\end{aligned}\n",
    "        *"
   ]
  }
 ],
 "metadata": {
  "kernelspec": {
   "display_name": "Python 3 (ipykernel)",
   "language": "python",
   "name": "python3"
  },
  "language_info": {
   "codemirror_mode": {
    "name": "ipython",
    "version": 3
   },
   "file_extension": ".py",
   "mimetype": "text/x-python",
   "name": "python",
   "nbconvert_exporter": "python",
   "pygments_lexer": "ipython3",
   "version": "3.9.12"
  }
 },
 "nbformat": 4,
 "nbformat_minor": 5
}
