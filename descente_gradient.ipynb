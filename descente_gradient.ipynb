{
 "cells": [
  {
   "cell_type": "markdown",
   "metadata": {},
   "source": [
    "<center> <h1>TP Déscente de gradient </h1> </center>\n"
   ]
  },
  {
   "cell_type": "markdown",
   "metadata": {},
   "source": [
    "La descente de gradient est un algorithme d'optimisation en apprentissage automatique utilisé pour minimiser une fonction en se déplaçant itérativement vers la valeur minimale de la fonction."
   ]
  },
  {
   "cell_type": "markdown",
   "metadata": {},
   "source": [
    "Nous allons mettre en œuvre (programmer) une forme simple de l'algorithme de **descente de gradient** en utilisant python. \n",
    "\n",
    "Prenons une fonction polynomiale comme fonction objective , et essayons de trouver une valeur minimale locale pour cette fonction."
   ]
  },
  {
   "cell_type": "markdown",
   "metadata": {},
   "source": [
    "Importons d'abord les bibliothèques requises et créons f(x)."
   ]
  },
  {
   "cell_type": "code",
   "execution_count": 39,
   "metadata": {},
   "outputs": [],
   "source": [
    "# Importation des librairies requises\n",
    "\n",
    "import numpy as np\n",
    "import matplotlib.pyplot as plt"
   ]
  },
  {
   "cell_type": "code",
   "execution_count": 40,
   "metadata": {},
   "outputs": [],
   "source": [
    "# Défintion de la fonction objective\n",
    "f_x = lambda x: (x**3)-4*(x**2)+6  "
   ]
  },
  {
   "cell_type": "markdown",
   "metadata": {},
   "source": [
    "f(x) = $x^{3}$ - 4$x^{2}$ + 6"
   ]
  },
  {
   "cell_type": "markdown",
   "metadata": {},
   "source": [
    "Générons 1000 valeurs de 0 à 4 comme x et traçons la courbe de f(x)."
   ]
  },
  {
   "cell_type": "code",
   "execution_count": 41,
   "metadata": {},
   "outputs": [
    {
     "data": {
      "image/png": "[encoded data removed]",
      "text/plain": [
       "<Figure size 432x288 with 1 Axes>"
      ]
     },
     "metadata": {
      "needs_background": "light"
     },
     "output_type": "display_data"
    }
   ],
   "source": [
    "# [...]\n",
    "x = np.linspace(0,4,1000)\n",
    "\n",
    "# [...]\n",
    "\n",
    "plt.plot(x, f_x(x))\n",
    "plt.show()"
   ]
  },
  {
   "cell_type": "markdown",
   "metadata": {},
   "source": [
    "Dérivée de f(x) : f'(x) = 3$x^{2}$ - 8x.<br>"
   ]
  },
  {
   "cell_type": "code",
   "execution_count": 42,
   "metadata": {},
   "outputs": [],
   "source": [
    "f_x_derivative = lambda x: 3*(x**2)-8*x"
   ]
  },
  {
   "cell_type": "markdown",
   "metadata": {},
   "source": [
    "Écrivons une fonction **gradient_iteration** pour calculer le minimum en utilisant l'algorithme de descente de gradient.\n",
    "\n",
    "Les paramètres de la fonction sont :\n",
    "- **x_start** (valeur de départ de x)\n",
    "- **itérations**\n",
    "- **learning_rate** : \"le pas d'apprentissage\n"
   ]
  },
  {
   "cell_type": "code",
   "execution_count": 43,
   "metadata": {},
   "outputs": [],
   "source": [
    "def gradient_iteration(x_start, iterations, learning_rate):\n",
    "    \n",
    "    # Ces listes de valeurs x et y seront utilisées ultérieurement pour la visualisation.\n",
    "    x_grad = [x_start]\n",
    "    y_grad = [f_x(x_start)]\n",
    "    \n",
    "    \n",
    "    # [...]\n",
    "    for i in range(iterations):\n",
    "        \n",
    "        # [...]\n",
    "        x_start_derivative = - f_x_derivative(x_start)\n",
    "        \n",
    "        # [...]\n",
    "        x_start += (learning_rate * x_start_derivative)        \n",
    "        \n",
    "        #[...]\n",
    "        x_grad.append(x_start)\n",
    "        y_grad.append(f_x(x_start))\n",
    "\n",
    "    print (\"Le minimum local se situe à : {:.2f}\".format(x_start))\n",
    "    print (\"Nombre d'étapes réalisées : \",len(x_grad)-1)\n",
    "    plot_gradient(x, f_x(x) ,x_grad, y_grad)"
   ]
  },
  {
   "cell_type": "markdown",
   "metadata": {},
   "source": [
    " La fonction **plot_gradient** sert pour tracer la descente de gradient."
   ]
  },
  {
   "cell_type": "code",
   "execution_count": 44,
   "metadata": {},
   "outputs": [],
   "source": [
    "def plot_gradient(x, y, x_vis, y_vis):\n",
    "    plt.subplot(1,2,2)\n",
    "    plt.scatter(x_vis, y_vis, c = \"b\")\n",
    "    plt.plot(x, f_x(x), c = \"r\")\n",
    "    plt.title(\"Gradient Descent\")\n",
    "    plt.show()\n",
    "\n",
    "    plt.subplot(1,2,1)\n",
    "    plt.scatter(x_vis, y_vis, c = \"b\")\n",
    "    plt.plot(x,f_x(x), c = \"r\")\n",
    "    plt.xlim([2.0,3.0])\n",
    "    plt.title(\"Zoomed in Figure\")\n",
    "    plt.show()\n",
    "    "
   ]
  },
  {
   "cell_type": "markdown",
   "metadata": {},
   "source": [
    "Exécutez la fonction **gradient_iteration** avec <br>\n",
    "- x_start = 0.5, \n",
    "- itérations = 1000, \n",
    "- taux d'apprentissage = 0.05"
   ]
  },
  {
   "cell_type": "code",
   "execution_count": 45,
   "metadata": {},
   "outputs": [],
   "source": [
    "# [...]"
   ]
  },
  {
   "cell_type": "markdown",
   "metadata": {},
   "source": [
    "Nous sommes en mesure de trouver le minimum local à 2,67 et comme nous avons donné le nombre d'itérations à 1000, l'algorithme a effectué 1000 étapes.\n",
    "\n",
    "Il aurait pu atteindre la valeur 2,67 à une itération bien inférieur. \n",
    "\n",
    "Mais comme nous ne savons pas à quel moment notre algorithme atteindra le minimum local avec le taux d'apprentissage donné, nous donnons une valeur élevée d'itération juste pour être sûr de trouver notre minimum local.<br>\n",
    "\n",
    "Définissons une autre fonction qui prend la précision comme entrée au lieu des itérations . \n",
    "\n",
    "Nous pouvons définir le niveau de précision que nous voulons et arrêter l'algorithme une fois que nous avons atteint ce niveau de précision."
   ]
  },
  {
   "cell_type": "code",
   "execution_count": 46,
   "metadata": {},
   "outputs": [],
   "source": [
    "def gradient_precision(x_start, precision, learning_rate):\n",
    "    \n",
    "    # Ces listes de valeurs x et y seront utilisées ultérieurement pour la visualisation.\n",
    "    x_grad = [x_start]\n",
    "    y_grad = [f_x(x_start)]\n",
    "\n",
    "    while True:\n",
    "        \n",
    "        # [...]\n",
    "        x_start_derivative = - f_x_derivative(x_start)\n",
    "        \n",
    "        # [...]\n",
    "        x_start += (learning_rate * x_start_derivative)\n",
    "        \n",
    "        \n",
    "        x_grad.append(x_start)        \n",
    "        y_grad.append(f_x(x_start))\n",
    "        \n",
    "        # [...]\n",
    "        if abs(x_grad[len(x_grad)-1] - x_grad[len(x_grad)-2]) <= precision:\n",
    "            break\n",
    "\n",
    "\n",
    "    print (\"Le minimum local se situe à {:.2f}\".format(x_start))\n",
    "    print (\"Nombre d'étapes réalisées : \",len(x_grad)-1)\n",
    "    plot_gradient(x, f_x(x) ,x_grad, y_grad)\n",
    "    "
   ]
  },
  {
   "cell_type": "markdown",
   "metadata": {},
   "source": [
    "Appelons maintenant cette fonction avec les paramètres <br>x_start = 0,5, précision = 0,001, taux d'apprentissage = 0,01."
   ]
  },
  {
   "cell_type": "code",
   "execution_count": 47,
   "metadata": {},
   "outputs": [],
   "source": [
    "# [...]"
   ]
  },
  {
   "cell_type": "markdown",
   "metadata": {},
   "source": [
    "Analysez les résultats ! \n",
    "\n",
    "<br>Augmentons le taux d'apprentissage à 0,05 et vérifions les résultats."
   ]
  },
  {
   "cell_type": "code",
   "execution_count": 48,
   "metadata": {
    "scrolled": false
   },
   "outputs": [],
   "source": [
    "# [...]"
   ]
  },
  {
   "cell_type": "markdown",
   "metadata": {},
   "source": [
    "Analysez les résultats ! \n",
    "\n",
    "\n",
    "\n",
    "Augmentons le taux d'apprentissage à 0.14 et notons à nouveau les résultats.\n"
   ]
  },
  {
   "cell_type": "code",
   "execution_count": 49,
   "metadata": {},
   "outputs": [],
   "source": [
    "# [...]"
   ]
  },
  {
   "cell_type": "markdown",
   "metadata": {},
   "source": [
    "En augmentant le taux d'apprentissage à 0,14, l'algorithme a pu trouver le minimum local en seulement 6 étapes. Augmentons-le de 0,01 pour voir si la tendance se poursuit."
   ]
  },
  {
   "cell_type": "code",
   "execution_count": 50,
   "metadata": {},
   "outputs": [],
   "source": [
    "# [...]"
   ]
  },
  {
   "attachments": {},
   "cell_type": "markdown",
   "metadata": {},
   "source": [
    "Analysez les résultats ! "
   ]
  }
 ],
 "metadata": {
  "kernelspec": {
   "display_name": "Python 3 (ipykernel)",
   "language": "python",
   "name": "python3"
  },
  "language_info": {
   "codemirror_mode": {
    "name": "ipython",
    "version": 3
   },
   "file_extension": ".py",
   "mimetype": "text/x-python",
   "name": "python",
   "nbconvert_exporter": "python",
   "pygments_lexer": "ipython3",
   "version": "3.9.12"
  }
 },
 "nbformat": 4,
 "nbformat_minor": 2
}
